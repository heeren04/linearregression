{
 "cells": [
  {
   "cell_type": "code",
   "execution_count": 8,
   "id": "c4f1df41-04ed-487d-a281-cbdba15d5852",
   "metadata": {},
   "outputs": [
    {
     "name": "stdout",
     "output_type": "stream",
     "text": [
      "           id   Date  number of bedrooms  number of bathrooms  living area  \\\n",
      "0  6762810145  42491                   5                 2.50         3650   \n",
      "1  6762810635  42491                   4                 2.50         2920   \n",
      "2  6762810998  42491                   5                 2.75         2910   \n",
      "3  6762812605  42491                   4                 2.50         3310   \n",
      "4  6762812919  42491                   3                 2.00         2710   \n",
      "\n",
      "   lot area  number of floors  waterfront present  number of views  \\\n",
      "0      9050               2.0                   0                4   \n",
      "1      4000               1.5                   0                0   \n",
      "2      9480               1.5                   0                0   \n",
      "3     42998               2.0                   0                0   \n",
      "4      4500               1.5                   0                0   \n",
      "\n",
      "   condition of the house  ...  Built Year  Renovation Year  Postal Code  \\\n",
      "0                       5  ...        1921                0       122003   \n",
      "1                       5  ...        1909                0       122004   \n",
      "2                       3  ...        1939                0       122004   \n",
      "3                       3  ...        2001                0       122005   \n",
      "4                       4  ...        1929                0       122006   \n",
      "\n",
      "   Lattitude  Longitude  living_area_renov  lot_area_renov  \\\n",
      "0    52.8645   -114.557               2880            5400   \n",
      "1    52.8878   -114.470               2470            4000   \n",
      "2    52.8852   -114.468               2940            6600   \n",
      "3    52.9532   -114.321               3350           42847   \n",
      "4    52.9047   -114.485               2060            4500   \n",
      "\n",
      "   Number of schools nearby  Distance from the airport    Price  \n",
      "0                         2                         58  2380000  \n",
      "1                         2                         51  1400000  \n",
      "2                         1                         53  1200000  \n",
      "3                         3                         76   838000  \n",
      "4                         1                         51   805000  \n",
      "\n",
      "[5 rows x 23 columns]\n"
     ]
    }
   ],
   "source": [
    "import pandas as pd\n",
    "\n",
    "file_path = r'/Users/heeren094/Downloads/House Price India.csv' # Keep the path of your file\n",
    "# Loading the file\n",
    "data = pd.read_csv(file_path)\n",
    "\n",
    "# Displaying the first few rows of the dataframe\n",
    "print(data.head())"
   ]
  },
  {
   "cell_type": "code",
   "execution_count": 9,
   "id": "0fdc55f3-0897-4005-8983-bf22edf46dfd",
   "metadata": {},
   "outputs": [
    {
     "name": "stdout",
     "output_type": "stream",
     "text": [
      "<class 'pandas.core.frame.DataFrame'>\n",
      "RangeIndex: 14620 entries, 0 to 14619\n",
      "Data columns (total 23 columns):\n",
      " #   Column                                 Non-Null Count  Dtype  \n",
      "---  ------                                 --------------  -----  \n",
      " 0   id                                     14620 non-null  int64  \n",
      " 1   Date                                   14620 non-null  int64  \n",
      " 2   number of bedrooms                     14620 non-null  int64  \n",
      " 3   number of bathrooms                    14620 non-null  float64\n",
      " 4   living area                            14620 non-null  int64  \n",
      " 5   lot area                               14620 non-null  int64  \n",
      " 6   number of floors                       14620 non-null  float64\n",
      " 7   waterfront present                     14620 non-null  int64  \n",
      " 8   number of views                        14620 non-null  int64  \n",
      " 9   condition of the house                 14620 non-null  int64  \n",
      " 10  grade of the house                     14620 non-null  int64  \n",
      " 11  Area of the house(excluding basement)  14620 non-null  int64  \n",
      " 12  Area of the basement                   14620 non-null  int64  \n",
      " 13  Built Year                             14620 non-null  int64  \n",
      " 14  Renovation Year                        14620 non-null  int64  \n",
      " 15  Postal Code                            14620 non-null  int64  \n",
      " 16  Lattitude                              14620 non-null  float64\n",
      " 17  Longitude                              14620 non-null  float64\n",
      " 18  living_area_renov                      14620 non-null  int64  \n",
      " 19  lot_area_renov                         14620 non-null  int64  \n",
      " 20  Number of schools nearby               14620 non-null  int64  \n",
      " 21  Distance from the airport              14620 non-null  int64  \n",
      " 22  Price                                  14620 non-null  int64  \n",
      "dtypes: float64(4), int64(19)\n",
      "memory usage: 2.6 MB\n"
     ]
    },
    {
     "data": {
      "text/plain": [
       "(id                                       0\n",
       " Date                                     0\n",
       " number of bedrooms                       0\n",
       " number of bathrooms                      0\n",
       " living area                              0\n",
       " lot area                                 0\n",
       " number of floors                         0\n",
       " waterfront present                       0\n",
       " number of views                          0\n",
       " condition of the house                   0\n",
       " grade of the house                       0\n",
       " Area of the house(excluding basement)    0\n",
       " Area of the basement                     0\n",
       " Built Year                               0\n",
       " Renovation Year                          0\n",
       " Postal Code                              0\n",
       " Lattitude                                0\n",
       " Longitude                                0\n",
       " living_area_renov                        0\n",
       " lot_area_renov                           0\n",
       " Number of schools nearby                 0\n",
       " Distance from the airport                0\n",
       " Price                                    0\n",
       " dtype: int64,\n",
       "                  id          Date  number of bedrooms  number of bathrooms  \\\n",
       " count  1.462000e+04  14620.000000        14620.000000         14620.000000   \n",
       " mean   6.762821e+09  42604.538646            3.379343             2.129583   \n",
       " std    6.237575e+03     67.347991            0.938719             0.769934   \n",
       " min    6.762810e+09  42491.000000            1.000000             0.500000   \n",
       " 25%    6.762815e+09  42546.000000            3.000000             1.750000   \n",
       " 50%    6.762821e+09  42600.000000            3.000000             2.250000   \n",
       " 75%    6.762826e+09  42662.000000            4.000000             2.500000   \n",
       " max    6.762832e+09  42734.000000           33.000000             8.000000   \n",
       " \n",
       "         living area      lot area  number of floors  waterfront present  \\\n",
       " count  14620.000000  1.462000e+04      14620.000000        14620.000000   \n",
       " mean    2098.262996  1.509328e+04          1.502360            0.007661   \n",
       " std      928.275721  3.791962e+04          0.540239            0.087193   \n",
       " min      370.000000  5.200000e+02          1.000000            0.000000   \n",
       " 25%     1440.000000  5.010750e+03          1.000000            0.000000   \n",
       " 50%     1930.000000  7.620000e+03          1.500000            0.000000   \n",
       " 75%     2570.000000  1.080000e+04          2.000000            0.000000   \n",
       " max    13540.000000  1.074218e+06          3.500000            1.000000   \n",
       " \n",
       "        number of views  condition of the house  ...    Built Year  \\\n",
       " count     14620.000000            14620.000000  ...  14620.000000   \n",
       " mean          0.233105                3.430506  ...   1970.926402   \n",
       " std           0.766259                0.664151  ...     29.493625   \n",
       " min           0.000000                1.000000  ...   1900.000000   \n",
       " 25%           0.000000                3.000000  ...   1951.000000   \n",
       " 50%           0.000000                3.000000  ...   1975.000000   \n",
       " 75%           0.000000                4.000000  ...   1997.000000   \n",
       " max           4.000000                5.000000  ...   2015.000000   \n",
       " \n",
       "        Renovation Year    Postal Code     Lattitude     Longitude  \\\n",
       " count     14620.000000   14620.000000  14620.000000  14620.000000   \n",
       " mean         90.924008  122033.062244     52.792848   -114.404007   \n",
       " std         416.216661      19.082418      0.137522      0.141326   \n",
       " min           0.000000  122003.000000     52.385900   -114.709000   \n",
       " 25%           0.000000  122017.000000     52.707600   -114.519000   \n",
       " 50%           0.000000  122032.000000     52.806400   -114.421000   \n",
       " 75%           0.000000  122048.000000     52.908900   -114.315000   \n",
       " max        2015.000000  122072.000000     53.007600   -113.505000   \n",
       " \n",
       "        living_area_renov  lot_area_renov  Number of schools nearby  \\\n",
       " count       14620.000000    14620.000000              14620.000000   \n",
       " mean         1996.702257    12753.500068                  2.012244   \n",
       " std           691.093366    26058.414467                  0.817284   \n",
       " min           460.000000      651.000000                  1.000000   \n",
       " 25%          1490.000000     5097.750000                  1.000000   \n",
       " 50%          1850.000000     7620.000000                  2.000000   \n",
       " 75%          2380.000000    10125.000000                  3.000000   \n",
       " max          6110.000000   560617.000000                  3.000000   \n",
       " \n",
       "        Distance from the airport         Price  \n",
       " count               14620.000000  1.462000e+04  \n",
       " mean                   64.950958  5.389322e+05  \n",
       " std                     8.936008  3.675324e+05  \n",
       " min                    50.000000  7.800000e+04  \n",
       " 25%                    57.000000  3.200000e+05  \n",
       " 50%                    65.000000  4.500000e+05  \n",
       " 75%                    73.000000  6.450000e+05  \n",
       " max                    80.000000  7.700000e+06  \n",
       " \n",
       " [8 rows x 23 columns])"
      ]
     },
     "execution_count": 9,
     "metadata": {},
     "output_type": "execute_result"
    }
   ],
   "source": [
    "# Displaying basic information about the dataset\n",
    "data.info()\n",
    "\n",
    "# Checking for missing values\n",
    "missing_values = data.isnull().sum()\n",
    "\n",
    "# Displaying summary statistics\n",
    "summary_stats = data.describe()\n",
    "\n",
    "missing_values, summary_stats\n"
   ]
  },
  {
   "cell_type": "code",
   "execution_count": 10,
   "id": "1118ba82-d334-4572-a8bd-98d3ce844a01",
   "metadata": {},
   "outputs": [],
   "source": [
    "from sklearn.model_selection import train_test_split\n",
    "\n",
    "# Assuming 'Price' is the target variable and others are features\n",
    "X = data.drop(columns=['Price'])\n",
    "y = data['Price']\n",
    "\n",
    "# Spliting the dataset\n",
    "X_train, X_test, y_train, y_test = train_test_split(X, y, test_size=0.2, random_state=42)\n"
   ]
  },
  {
   "cell_type": "code",
   "execution_count": 11,
   "id": "07a3749d-ef6d-432e-a763-909d727d8595",
   "metadata": {},
   "outputs": [],
   "source": [
    "from sklearn.linear_model import LinearRegression\n",
    "\n",
    "# Initializing the model\n",
    "model = LinearRegression()\n"
   ]
  },
  {
   "cell_type": "code",
   "execution_count": 12,
   "id": "1a9aa753-458e-4626-9746-665aea1d65d0",
   "metadata": {},
   "outputs": [
    {
     "data": {
      "text/plain": [
       "LinearRegression()"
      ]
     },
     "execution_count": 12,
     "metadata": {},
     "output_type": "execute_result"
    }
   ],
   "source": [
    "# Training the model\n",
    "model.fit(X_train, y_train)\n"
   ]
  },
  {
   "cell_type": "code",
   "execution_count": 13,
   "id": "b750da52-5ba9-4a6e-a42c-daf5e9cd5bda",
   "metadata": {},
   "outputs": [
    {
     "name": "stdout",
     "output_type": "stream",
     "text": [
      "[ 246046.49963379  654162.58151245  580460.52301025 ... 1009214.42520142\n",
      "  218460.1000061   664961.88040161]\n",
      "Mean absolute error of test and predicted values :  105542.36193594038\n",
      "Mean squared error of test and predicted values :  35029743918.283134\n",
      "Coefficient of determination :  0.7514192105740471\n"
     ]
    }
   ],
   "source": [
    "from sklearn.metrics import mean_absolute_error, mean_squared_error, r2_score\n",
    "\n",
    "# Making predictions on the test set\n",
    "y_pred = model.predict(X_test)\n",
    "print(y_pred)\n",
    "\n",
    "# Calculating evaluation metrics\n",
    "mae = mean_absolute_error(y_test, y_pred)\n",
    "mse = mean_squared_error(y_test, y_pred)\n",
    "r2 = r2_score(y_test, y_pred)\n",
    "\n",
    "print(\"Mean absolute error of test and predicted values : \",mae)\n",
    "print(\"Mean squared error of test and predicted values : \",mse)\n",
    "print(\"Coefficient of determination : \",r2)\n"
   ]
  },
  {
   "cell_type": "code",
   "execution_count": 14,
   "id": "02d0ef26-790b-4e50-9d7a-3d303a3165a3",
   "metadata": {},
   "outputs": [
    {
     "data": {
      "image/png": "[encoded data removed]",
      "text/plain": [
       "<Figure size 640x480 with 1 Axes>"
      ]
     },
     "metadata": {},
     "output_type": "display_data"
    }
   ],
   "source": [
    "import matplotlib.pyplot as plt\n",
    "\n",
    "# Scatter plot of actual vs predicted prices\n",
    "plt.scatter(y_test, y_pred, alpha=0.5, color=\"blue\")\n",
    "plt.xlabel('Actual Prices')\n",
    "plt.ylabel('Predicted Prices')\n",
    "plt.title('Actual vs Predicted Prices')\n",
    "plt.show()\n"
   ]
  }
 ],
 "metadata": {
  "kernelspec": {
   "display_name": "Python 3 (ipykernel)",
   "language": "python",
   "name": "python3"
  },
  "language_info": {
   "codemirror_mode": {
    "name": "ipython",
    "version": 3
   },
   "file_extension": ".py",
   "mimetype": "text/x-python",
   "name": "python",
   "nbconvert_exporter": "python",
   "pygments_lexer": "ipython3",
   "version": "3.9.6"
  }
 },
 "nbformat": 4,
 "nbformat_minor": 5
}
